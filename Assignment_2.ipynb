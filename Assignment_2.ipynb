{
 "cells": [
  {
   "cell_type": "code",
   "execution_count": 1,
   "id": "2008fb45-e19e-480b-95d6-d6954816e7a9",
   "metadata": {},
   "outputs": [],
   "source": [
    "#%pip install gensim"
   ]
  },
  {
   "cell_type": "code",
   "execution_count": 34,
   "id": "1e7a7c15-cdb1-4595-a22b-56806e51c1cb",
   "metadata": {},
   "outputs": [],
   "source": [
    "from gensim import downloader\n",
    "import pandas as pd\n",
    "import random"
   ]
  },
  {
   "cell_type": "code",
   "execution_count": 3,
   "id": "73ee69a2-5dc3-487d-8fcd-5bbcceba384f",
   "metadata": {},
   "outputs": [],
   "source": [
    "#Task 1"
   ]
  },
  {
   "cell_type": "code",
   "execution_count": 5,
   "id": "e1078677-225b-452e-920e-b3b9ec40c818",
   "metadata": {},
   "outputs": [],
   "source": [
    "wv_google=downloader.load('word2vec-google-news-300')"
   ]
  },
  {
   "cell_type": "code",
   "execution_count": 26,
   "id": "66746615-40fd-4171-8cc0-3998d6b33bcc",
   "metadata": {},
   "outputs": [
    {
     "name": "stdout",
     "output_type": "stream",
     "text": [
      "it is\n"
     ]
    }
   ],
   "source": [
    "#print(wv_google['tranquillity'])\n",
    "\n",
    "if 'tranquillity' not in wv_google.key_to_index:\n",
    "    print('it is')\n",
    "else:\n",
    "    print('it is NOT there')"
   ]
  },
  {
   "cell_type": "code",
   "execution_count": 9,
   "id": "ac78100e-b44b-4e51-aad1-b877286f518c",
   "metadata": {},
   "outputs": [
    {
     "name": "stdout",
     "output_type": "stream",
     "text": [
      "0.16631229\n",
      "0.34684694\n",
      "0.8185792\n",
      "0.2649879\n"
     ]
    }
   ],
   "source": [
    "vector_enormously=wv_google['enormously']\n",
    "vector_appropriately=wv_google['appropriately']\n",
    "vector_uniquely=wv_google['uniquely']\n",
    "vector_tremendously=wv_google['tremendously']\n",
    "vector_decidedly=wv_google['decidedly']\n",
    "\n",
    "#wv_google('enormously','appropriately')\n",
    "print(wv_google.similarity('enormously','appropriately'))\n",
    "print(wv_google.similarity('enormously','uniquely'))\n",
    "print(wv_google.similarity('enormously','tremendously'))\n",
    "print(wv_google.similarity('enormously','decidedly'))"
   ]
  },
  {
   "cell_type": "code",
   "execution_count": 35,
   "id": "7fafc26d-3c70-4814-9a3c-121756e1a81e",
   "metadata": {},
   "outputs": [
    {
     "name": "stdout",
     "output_type": "stream",
     "text": [
      "enormously,tremendously,tremendously,correct\n",
      "provisions,stipulations,stipulations,correct\n",
      "haphazardly,randomly,randomly,correct\n",
      "prominent,conspicuous,conspicuous,correct\n",
      "zenith,pinnacle,pinnacle,correct\n",
      "flawed,imperfect,imperfect,correct\n",
      "urgently,desperately,desperately,correct\n",
      "consumed,eaten,eaten,correct\n",
      "advent,coming,coming,correct\n",
      "concisely,succinctly,succinctly,correct\n",
      "salutes,greetings,ceremonies,wrong\n",
      "solitary,alone,restless,wrong\n",
      "hasten,accelerate,accelerate,correct\n",
      "perseverance,endurance,generosity,wrong\n",
      "fanciful,imaginative,imaginative,correct\n",
      "showed,demonstrated,demonstrated,correct\n",
      "constantly,continually,continually,correct\n",
      "issues,subjects,subjects,correct\n",
      "furnish,supply,impress,wrong\n",
      "costly,expensive,expensive,correct\n",
      "recognized,acknowledged,acknowledged,correct\n",
      "spot,location,location,correct\n",
      "make,earn,earn,correct\n",
      "often,frequently,frequently,correct\n",
      "easygoing,relaxed,relaxed,correct\n",
      "debate,argument,argument,correct\n",
      "narrow,thin,thin,correct\n",
      "arranged,planned,planned,correct\n",
      "infinite,limitless,limitless,correct\n",
      "showy,striking,prickly,wrong\n",
      "levied,imposed,imposed,correct\n",
      "deftly,skillfully,skillfully,correct\n",
      "distribute,circulate,commercialize,wrong\n",
      "discrepancies,differences,differences,correct\n",
      "prolific,productive,productive,correct\n",
      "unmatched,unequaled,unequaled,correct\n",
      "peculiarly,uniquely,uniquely,correct\n",
      "hue,color,color,correct\n",
      "hind,rear,rear,correct\n",
      "highlight,accentuate,accentuate,correct\n",
      "hastily,hurriedly,hurriedly,correct\n",
      "temperate,mild,mild,correct\n",
      "grin,smile,smile,correct\n",
      "verbally,orally,orally,correct\n",
      "physician,doctor,doctor,correct\n",
      "essentially,basically,basically,correct\n",
      "keen,sharp,useful,wrong\n",
      "situated,positioned,positioned,correct\n",
      "principal,major,major,correct\n",
      "slowly,gradually,gradually,correct\n",
      "built,constructed,constructed,correct\n",
      "tasks,jobs,jobs,correct\n",
      "unlikely,improbable,improbable,correct\n",
      "halfheartedly,apathetically,apathetically,correct\n",
      "annals,chronicles,chronicles,correct\n",
      "wildly,furiously,furiously,correct\n",
      "hailed,acclaimed,remembered,wrong\n",
      "command,mastery,mastery,correct\n",
      "concocted,devised,devised,correct\n",
      "prospective,potential,potential,correct\n",
      "generally,broadly,broadly,correct\n",
      "sustained,prolonged,prolonged,correct\n",
      "perilous,dangerous,dangerous,correct\n",
      "tranquillity,peacefulness,harshness,guess\n",
      "dissipate,disperse,disperse,correct\n",
      "primarily,chiefly,chiefly,correct\n",
      "colloquial,conversational,conversational,correct\n",
      "resolved,settled,settled,correct\n",
      "feasible,possible,possible,correct\n",
      "expeditiously,rapidly,rapidly,correct\n",
      "percentage,proportion,proportion,correct\n",
      "terminated,ended,postponed,wrong\n",
      "uniform,alike,alike,correct\n",
      "figure,solve,solve,correct\n",
      "sufficient,enough,enough,correct\n",
      "fashion,manner,manner,correct\n",
      "marketed,sold,sold,correct\n",
      "bigger,larger,larger,correct\n",
      "roots,origins,origins,correct\n",
      "normally,ordinarily,ordinarily,correct\n"
     ]
    }
   ],
   "source": [
    "# Load dataset\n",
    "dataframe = pd.read_csv('synonym.csv')\n",
    "\n",
    "#going through dataset and evaluating the closest synonym to the question\n",
    "for index, row in dataframe.iterrows():\n",
    "    question=row['question']\n",
    "    answer=row['answer']\n",
    "    system_guess_word=''\n",
    "    best_choice_similarity=-1\n",
    "    \n",
    "    if question in wv_google.key_to_index:        \n",
    "        for index in range(0,4):\n",
    "            choice=row[str(index)]\n",
    "            if choice in wv_google.key_to_index:\n",
    "                choice_similarity=wv_google.similarity(question,choice)\n",
    "                if choice_similarity>best_choice_similarity:\n",
    "                    best_choice_similarity=choice_similarity\n",
    "                    system_guess_word=choice\n",
    "    \n",
    "    #validate label\n",
    "    if best_choice_similarity==-1:\n",
    "        label='guess'\n",
    "        #If label is \"guess\" then choose the system word randomly\n",
    "        random_column = str(random.randint(0,3))\n",
    "        system_guess_word= row[random_column]\n",
    "    elif answer==system_guess_word:\n",
    "        label='correct'\n",
    "    else:\n",
    "        label='wrong'\n",
    "    \n",
    "    print(f\"{question},{answer},{system_guess_word},{label}\")\n",
    "        \n",
    "\n"
   ]
  },
  {
   "cell_type": "code",
   "execution_count": null,
   "id": "cc32e667-5680-4273-82d1-2afdd1d685a2",
   "metadata": {},
   "outputs": [],
   "source": []
  }
 ],
 "metadata": {
  "kernelspec": {
   "display_name": "Python 3 (ipykernel)",
   "language": "python",
   "name": "python3"
  },
  "language_info": {
   "codemirror_mode": {
    "name": "ipython",
    "version": 3
   },
   "file_extension": ".py",
   "mimetype": "text/x-python",
   "name": "python",
   "nbconvert_exporter": "python",
   "pygments_lexer": "ipython3",
   "version": "3.11.5"
  }
 },
 "nbformat": 4,
 "nbformat_minor": 5
}
